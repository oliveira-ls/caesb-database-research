{
  "nbformat": 4,
  "nbformat_minor": 0,
  "metadata": {
    "colab": {
      "provenance": []
    },
    "kernelspec": {
      "name": "python3",
      "display_name": "Python 3"
    },
    "language_info": {
      "name": "python"
    }
  },
  "cells": [
    {
      "cell_type": "markdown",
      "source": [
        "Algoritmo utilizado para traduzir a coluna de \"total_opiniao\" de português para o inglês."
      ],
      "metadata": {
        "id": "U-vVOgpBcNaG"
      }
    },
    {
      "cell_type": "code",
      "source": [
        "# código para download da base de dados\n",
        "!curl -L -o base_pesquisa.xlsx https://github.com/oliveira-ls/caesb-database-research/raw/refs/heads/main/database-translate/database_pesquisa.xlsx"
      ],
      "metadata": {
        "colab": {
          "base_uri": "https://localhost:8080/"
        },
        "id": "oLjzUF2vXBy7",
        "outputId": "15dc7d63-9e10-43d9-ce56-5d9da34b76f9"
      },
      "execution_count": 1,
      "outputs": [
        {
          "output_type": "stream",
          "name": "stdout",
          "text": [
            "  % Total    % Received % Xferd  Average Speed   Time    Time     Time  Current\n",
            "                                 Dload  Upload   Total   Spent    Left  Speed\n",
            "  0     0    0     0    0     0      0      0 --:--:-- --:--:-- --:--:--     0\n",
            "100  123k  100  123k    0     0   183k      0 --:--:-- --:--:-- --:--:--  183k\n"
          ]
        }
      ]
    },
    {
      "cell_type": "code",
      "source": [
        "# código para instalar as bibliotecas necessárias\n",
        "!pip install mtranslate\n",
        "!pip install translate"
      ],
      "metadata": {
        "colab": {
          "base_uri": "https://localhost:8080/"
        },
        "collapsed": true,
        "id": "ouuxWS2ycNFW",
        "outputId": "c501948d-beaa-409c-a651-308d7854b358"
      },
      "execution_count": 2,
      "outputs": [
        {
          "output_type": "stream",
          "name": "stdout",
          "text": [
            "Collecting mtranslate\n",
            "  Downloading mtranslate-1.8.tar.gz (2.4 kB)\n",
            "  Preparing metadata (setup.py) ... \u001b[?25l\u001b[?25hdone\n",
            "Building wheels for collected packages: mtranslate\n",
            "  Building wheel for mtranslate (setup.py) ... \u001b[?25l\u001b[?25hdone\n",
            "  Created wheel for mtranslate: filename=mtranslate-1.8-py3-none-any.whl size=3673 sha256=62e42120148f47d719a3a08b51b20b167d3e2bcad8bfed0779cc40a367852775\n",
            "  Stored in directory: /root/.cache/pip/wheels/c2/04/15/d7654c2c4a9a52e09922967593f3278fed66059be65ca671ea\n",
            "Successfully built mtranslate\n",
            "Installing collected packages: mtranslate\n",
            "Successfully installed mtranslate-1.8\n",
            "Collecting translate\n",
            "  Downloading translate-3.6.1-py2.py3-none-any.whl.metadata (7.7 kB)\n",
            "Requirement already satisfied: click in /usr/local/lib/python3.10/dist-packages (from translate) (8.1.8)\n",
            "Requirement already satisfied: lxml in /usr/local/lib/python3.10/dist-packages (from translate) (5.3.0)\n",
            "Requirement already satisfied: requests in /usr/local/lib/python3.10/dist-packages (from translate) (2.32.3)\n",
            "Collecting libretranslatepy==2.1.1 (from translate)\n",
            "  Downloading libretranslatepy-2.1.1-py3-none-any.whl.metadata (233 bytes)\n",
            "Requirement already satisfied: charset-normalizer<4,>=2 in /usr/local/lib/python3.10/dist-packages (from requests->translate) (3.4.1)\n",
            "Requirement already satisfied: idna<4,>=2.5 in /usr/local/lib/python3.10/dist-packages (from requests->translate) (3.10)\n",
            "Requirement already satisfied: urllib3<3,>=1.21.1 in /usr/local/lib/python3.10/dist-packages (from requests->translate) (2.3.0)\n",
            "Requirement already satisfied: certifi>=2017.4.17 in /usr/local/lib/python3.10/dist-packages (from requests->translate) (2024.12.14)\n",
            "Downloading translate-3.6.1-py2.py3-none-any.whl (12 kB)\n",
            "Downloading libretranslatepy-2.1.1-py3-none-any.whl (3.2 kB)\n",
            "Installing collected packages: libretranslatepy, translate\n",
            "Successfully installed libretranslatepy-2.1.1 translate-3.6.1\n"
          ]
        }
      ]
    },
    {
      "cell_type": "code",
      "source": [
        "# código para importar as bibliotecas\n",
        "from mtranslate import translate\n",
        "import pandas as pd"
      ],
      "metadata": {
        "id": "fFRzcQigcumW"
      },
      "execution_count": 3,
      "outputs": []
    },
    {
      "cell_type": "code",
      "source": [
        "# código para leitura do banco de dados\n",
        "base_pesquisa = pd.read_excel('base_pesquisa.xlsx')"
      ],
      "metadata": {
        "id": "ut61Bp4QXzfr"
      },
      "execution_count": 4,
      "outputs": []
    },
    {
      "cell_type": "code",
      "source": [
        "# código para garantir que os valores na coluna 'total_opiniao' sejam strings\n",
        "base_pesquisa['total_opiniao'] = base_pesquisa['total_opiniao'].astype(str)"
      ],
      "metadata": {
        "id": "YLtPqMw2ZXo-"
      },
      "execution_count": 5,
      "outputs": []
    },
    {
      "cell_type": "code",
      "source": [
        "# código para traduzir a coluna 'total_opiniao' para o inglês\n",
        "base_pesquisa['traducao'] = base_pesquisa['total_opiniao'].apply(\n",
        "    lambda texto: translate(texto, \"en\")\n",
        ")"
      ],
      "metadata": {
        "id": "6PSTSUO3XRmj"
      },
      "execution_count": 6,
      "outputs": []
    },
    {
      "cell_type": "code",
      "source": [
        "# código para ajustar células NA\n",
        "base_pesquisa['traducao'] = base_pesquisa['traducao'].apply(lambda x: \"\" if pd.isna(x) else x)\n",
        "base_pesquisa['total_opiniao'] = base_pesquisa['total_opiniao'].apply(lambda x: \"\" if pd.isna(x) else x)\n",
        "base_pesquisa['total_opiniao'] = base_pesquisa['total_opiniao'].replace('nan', '')\n",
        "\n",
        "# código para exibir o resultado\n",
        "print(base_pesquisa)"
      ],
      "metadata": {
        "colab": {
          "base_uri": "https://localhost:8080/"
        },
        "id": "QWOh481iXpFS",
        "outputId": "2cdd6d62-9a4d-41be-d899-ae22fff067f9"
      },
      "execution_count": 7,
      "outputs": [
        {
          "output_type": "stream",
          "name": "stdout",
          "text": [
            "       ano  participacao  qualidade_agua avaliacao_quali_agua  \\\n",
            "0     2022             1             5.0                  NaN   \n",
            "1     2022             1             4.0                  NaN   \n",
            "2     2022             1             5.0                  NaN   \n",
            "3     2022             1             5.0                  NaN   \n",
            "4     2022             1             4.0                  NaN   \n",
            "...    ...           ...             ...                  ...   \n",
            "1625  2023             1             5.0                  NaN   \n",
            "1626  2023             1             5.0                  NaN   \n",
            "1627  2023             1             5.0                  NaN   \n",
            "1628  2023             1             4.0                  NaN   \n",
            "1629  2023             1             4.0                  NaN   \n",
            "\n",
            "      continuidade_abastecimento_agua avaliacao_abastecimento  sistema_esgoto  \\\n",
            "0                                 5.0                     NaN             4.0   \n",
            "1                                 4.0                     NaN             4.0   \n",
            "2                                 5.0                     NaN             5.0   \n",
            "3                                 5.0                     NaN             5.0   \n",
            "4                                 4.0                     NaN             1.0   \n",
            "...                               ...                     ...             ...   \n",
            "1625                              5.0                     NaN             1.0   \n",
            "1626                              4.0                     NaN             5.0   \n",
            "1627                              5.0                     NaN             5.0   \n",
            "1628                              4.0                     NaN             4.0   \n",
            "1629                              4.0                     NaN             4.0   \n",
            "\n",
            "     avaliacao_esgoto  imagem_caesb avaliacao_imagem  ...  \\\n",
            "0                 NaN           5.0              NaN  ...   \n",
            "1                 NaN           5.0              NaN  ...   \n",
            "2                 NaN           5.0              NaN  ...   \n",
            "3                 NaN           3.0              NaN  ...   \n",
            "4                 NaN           3.0              NaN  ...   \n",
            "...               ...           ...              ...  ...   \n",
            "1625              NaN           5.0              NaN  ...   \n",
            "1626              NaN           4.0              NaN  ...   \n",
            "1627              NaN           5.0              NaN  ...   \n",
            "1628              NaN           4.0              NaN  ...   \n",
            "1629              NaN           4.0              NaN  ...   \n",
            "\n",
            "      avaliacao_atendimento prazo_atendimento  avaliacao_prazo  \\\n",
            "0                       NaN               5.0              NaN   \n",
            "1                       NaN               4.0              NaN   \n",
            "2                       NaN               5.0              NaN   \n",
            "3                       NaN               5.0              NaN   \n",
            "4                       NaN               5.0              NaN   \n",
            "...                     ...               ...              ...   \n",
            "1625                    NaN               5.0              NaN   \n",
            "1626                    NaN               2.0              NaN   \n",
            "1627                    NaN               4.0              NaN   \n",
            "1628                    NaN               2.0              NaN   \n",
            "1629                    NaN               4.0              NaN   \n",
            "\n",
            "     qualidade_servico  avaliacao_servico postura_agente  avaliacao_agente  \\\n",
            "0                  4.0                NaN            5.0               NaN   \n",
            "1                  4.0                NaN            4.0               NaN   \n",
            "2                  5.0                NaN            5.0               NaN   \n",
            "3                  5.0                NaN            5.0               NaN   \n",
            "4                  3.0                NaN            4.0               NaN   \n",
            "...                ...                ...            ...               ...   \n",
            "1625               5.0                NaN            5.0               NaN   \n",
            "1626               4.0                NaN            5.0               NaN   \n",
            "1627               5.0                NaN            3.0               NaN   \n",
            "1628               2.0                NaN            5.0               NaN   \n",
            "1629               4.0                NaN            4.0               NaN   \n",
            "\n",
            "                                                opiniao  \\\n",
            "0                                   Não deseja informar   \n",
            "1                                           Não deseja.   \n",
            "2                                    A Caesb é nota 10!   \n",
            "3                               AGENDAMENTO POR PERIODO   \n",
            "4     As equipes de manutenção de esgoto vão ao seu ...   \n",
            "...                                                 ...   \n",
            "1625                                                NaN   \n",
            "1626                                                NaN   \n",
            "1627                                                NaN   \n",
            "1628                                                NaN   \n",
            "1629                                                NaN   \n",
            "\n",
            "                                          total_opiniao  \\\n",
            "0                                  Não deseja informar.   \n",
            "1                                           Não deseja.   \n",
            "2                                   A Caesb é nota 10!.   \n",
            "3                              AGENDAMENTO POR PERIODO.   \n",
            "4     As equipes de manutenção de esgoto vão ao seu ...   \n",
            "...                                                 ...   \n",
            "1625                                                      \n",
            "1626                                                      \n",
            "1627                                                      \n",
            "1628                                                      \n",
            "1629                                                      \n",
            "\n",
            "                                               traducao  \n",
            "0                                Do not wish to inform.  \n",
            "1                                        Don't want to.  \n",
            "2                                        Caesb is a 10!  \n",
            "3                                 SCHEDULING BY PERIOD.  \n",
            "4     Sewer maintenance teams come to your address b...  \n",
            "...                                                 ...  \n",
            "1625                                                 in  \n",
            "1626                                                 in  \n",
            "1627                                                 in  \n",
            "1628                                                 in  \n",
            "1629                                                 in  \n",
            "\n",
            "[1630 rows x 21 columns]\n"
          ]
        }
      ]
    },
    {
      "cell_type": "code",
      "source": [
        "# código para salvar como um arquivo Excel\n",
        "base_pesquisa.to_excel('db_pesq_complete.xlsx', index=False)"
      ],
      "metadata": {
        "id": "a4x6Vg6Yck0M"
      },
      "execution_count": 8,
      "outputs": []
    }
  ]
}